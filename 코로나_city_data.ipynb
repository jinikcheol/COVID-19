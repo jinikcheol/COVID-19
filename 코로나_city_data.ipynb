{
 "cells": [
  {
   "cell_type": "code",
   "execution_count": null,
   "metadata": {},
   "outputs": [],
   "source": [
    "import sys\n",
    "import os\n",
    "import pandas as pd\n",
    "import numpy as np\n",
    "\n",
    "from bs4 import BeautifulSoup\n",
    "from selenium import webdriver\n",
    "import time\n",
    "import tqdm\n",
    "from tqdm.notebook import tqdm\n",
    "\n",
    "dict = {}\n",
    "#Step 1. 크롬 웹브라우저 실행\n",
    "path = \"chromedriver.exe\"   # 윈도우는 \"chromedriver.exe\"\n",
    "\n",
    "driver = webdriver.Chrome(path)\n",
    "# 사이트 주소는 코로나바이러스감염증-19(COVID-19)\n",
    "driver.get('http://ncov.mohw.go.kr/')\n",
    "time.sleep(2)\n",
    "\n",
    "for i in tqdm(range(0,18)):\n",
    "    target_info = {}\n",
    "    city_data = driver.find_element_by_xpath(\"\"\"//*[@id=\"main_maplayout\"]/button[{}]\"\"\".format(i+1))\n",
    "    city_data_text = city_data.text\n",
    "    target_info['city_data'] = city_data_text\n",
    "    \n",
    "    dict[i] = target_info\n",
    "    time.sleep(1)\n",
    "    \n",
    "result_df = pd.DataFrame.from_dict(dict, 'index')\n",
    "result_df    "
   ]
  }
 ],
 "metadata": {
  "kernelspec": {
   "display_name": "Python 3",
   "language": "python",
   "name": "python3"
  },
  "language_info": {
   "codemirror_mode": {
    "name": "ipython",
    "version": 3
   },
   "file_extension": ".py",
   "mimetype": "text/x-python",
   "name": "python",
   "nbconvert_exporter": "python",
   "pygments_lexer": "ipython3",
   "version": "3.8.3"
  }
 },
 "nbformat": 4,
 "nbformat_minor": 4
}
