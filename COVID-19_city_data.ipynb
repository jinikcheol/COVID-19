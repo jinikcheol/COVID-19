import sys
import os
import pandas as pd
import numpy as np
from bs4 import BeautifulSoup
from selenium import webdriver
import time
import tqdm
from tqdm.notebook import tqdm

dict = {}

# Step 1. 크롬 웹브라우저 실행
path = "chromedriver.exe"   # 윈도우는 "chromedriver.exe"
driver = webdriver.Chrome(path)

# Step 2. 코로나바이러스감염증-19(COVID-19)
driver.get('http://ncov.mohw.go.kr/')
time.sleep(2)

# Step 3. city(1-18)_data
for i in tqdm(range(0,18)):
    target_info = {}
    
    # city_name
    city_data_name = driver.find_element_by_css_selector(button:nth-child({}) > name .format(i+1))
    city_data_name_text = city_data_name.text
    target_info['city_data_name'] = city_data_name_text

    # city_num
    city_data_num = driver.find_element_by_css_selector(button:nth-child({}) > num .format(i+1))
    city_data_num_text = city_data_num.text
    target_info['city_data_num_text'] = city_data_num_text

    # city_before
    city_data_before = driver.find_element_by_css_selector(button:nth-child({}) > before .format(i+1))
    city_data_before_text = city_data_before.text
    target_info['city_data_before_text'] = city_data_before_text

    
    dict[i] = target_info
    time.sleep(1)

# pandas     
result_df = pd.DataFrame.from_dict(dict, 'index')
result_df    
