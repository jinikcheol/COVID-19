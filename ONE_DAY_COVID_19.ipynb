{
 "cells": [
  {
   "cell_type": "code",
   "execution_count": 1,
   "metadata": {},
   "outputs": [
    {
     "data": {
      "text/html": [
       "<div>\n",
       "<style scoped>\n",
       "    .dataframe tbody tr th:only-of-type {\n",
       "        vertical-align: middle;\n",
       "    }\n",
       "\n",
       "    .dataframe tbody tr th {\n",
       "        vertical-align: top;\n",
       "    }\n",
       "\n",
       "    .dataframe thead th {\n",
       "        text-align: right;\n",
       "    }\n",
       "</style>\n",
       "<table border=\"1\" class=\"dataframe\">\n",
       "  <thead>\n",
       "    <tr style=\"text-align: right;\">\n",
       "      <th></th>\n",
       "      <th>COVID_19</th>\n",
       "      <th>COVID_19_data</th>\n",
       "    </tr>\n",
       "  </thead>\n",
       "  <tbody>\n",
       "    <tr>\n",
       "      <th>0</th>\n",
       "      <td>국내발생</td>\n",
       "      <td>283</td>\n",
       "    </tr>\n",
       "    <tr>\n",
       "      <th>1</th>\n",
       "      <td>해외유입</td>\n",
       "      <td>14</td>\n",
       "    </tr>\n",
       "  </tbody>\n",
       "</table>\n",
       "</div>"
      ],
      "text/plain": [
       "  COVID_19 COVID_19_data\n",
       "0     국내발생           283\n",
       "1     해외유입            14"
      ]
     },
     "execution_count": 1,
     "metadata": {},
     "output_type": "execute_result"
    }
   ],
   "source": [
    "import sys\n",
    "import os\n",
    "import pandas as pd\n",
    "import numpy as np\n",
    "\n",
    "from bs4 import BeautifulSoup\n",
    "from selenium import webdriver\n",
    "import time\n",
    "import tqdm\n",
    "from tqdm.notebook import tqdm\n",
    "\n",
    "dict = {}\n",
    "#Step 1. 크롬 웹브라우저 실행\n",
    "path = \"chromedriver.exe\"   # 윈도우는 \"chromedriver.exe\"\n",
    "\n",
    "driver = webdriver.Chrome(path)\n",
    "# 사이트 주소는 코로나바이러스감염증-19(COVID-19)\n",
    "driver.get('http://ncov.mohw.go.kr/')\n",
    "time.sleep(2)\n",
    "\n",
    "# 일일확진자\n",
    "one_day_COVID_19 = driver.find_element_by_class_name(\"tit\")\n",
    "one_day_COVID_19_text = one_day_COVID_19.text\n",
    "\n",
    "for i in range(0,2):\n",
    "    target_info = {}\n",
    "    # 코로나 확진자 정보\n",
    "    COVID_19_text = driver.find_elements_by_css_selector(\"span.subtit\")\n",
    "    COVID_19_data = driver.find_elements_by_css_selector(\"span.data\")\n",
    "\n",
    "    # 코로나 발생자 domestic incidence / 해외유입 overseas inflow\n",
    "    COVID_19_text_inout= COVID_19_text[i].text\n",
    "    COVID_19_data_inout = COVID_19_data[i].text\n",
    "    target_info['COVID_19'] = COVID_19_text_inout\n",
    "    target_info['COVID_19_data'] = COVID_19_data_inout\n",
    "    \n",
    "    dict[i] = target_info\n",
    "    time.sleep(1)\n",
    "    \n",
    "result_df = pd.DataFrame.from_dict(dict, 'index')\n",
    "result_df"
   ]
  }
 ],
 "metadata": {
  "kernelspec": {
   "display_name": "Python 3",
   "language": "python",
   "name": "python3"
  },
  "language_info": {
   "codemirror_mode": {
    "name": "ipython",
    "version": 3
   },
   "file_extension": ".py",
   "mimetype": "text/x-python",
   "name": "python",
   "nbconvert_exporter": "python",
   "pygments_lexer": "ipython3",
   "version": "3.8.3"
  }
 },
 "nbformat": 4,
 "nbformat_minor": 4
}
